{
 "cells": [
  {
   "cell_type": "code",
   "execution_count": null,
   "metadata": {},
   "outputs": [
    {
     "name": "stdout",
     "output_type": "stream",
     "text": [
      "(700, 500, 3)\n"
     ]
    }
   ],
   "source": [
    "import cv2\n",
    "import numpy as np\n",
    "\n",
    "img=cv2.imread(\"C:\\\\Users\\\\puni\\\\Desktop\\\\thor.jpg\")\n",
    "img=cv2.resize(img,(500,700))\n",
    "print(img.shape)\n",
    "\n",
    "#set region of interest(ROI)\n",
    "\n",
    "#320,50(X1,Y1)\n",
    "#440,205(x2,y2)\n",
    "roi=img[70:170,160:280]\n",
    "# but we must passs in img ((y1,y1),(x1,x2))\n",
    "#diffx=100,diffy=120\n",
    "\n",
    "#is chhote portion ko side me placed karana hai \n",
    "\n",
    "img[70:170,280:400]=roi\n",
    "\n",
    "img[70:170,40:160]=roi\n",
    " \n",
    "\n",
    "img1=cv2.imread(\"C:\\\\Users\\\\puni\\\\Desktop\\\\cap.jpg\")\n",
    "img1=cv2.resize(img1,(500,700))\n",
    "img1[10:110,300:420]=roi\n",
    "    \n",
    "\n",
    "\n",
    "cv2.imshow(\"captain america\",img1)\n",
    "cv2.waitKey()\n",
    "cv2.destroyAllWindows()"
   ]
  },
  {
   "cell_type": "code",
   "execution_count": null,
   "metadata": {},
   "outputs": [],
   "source": [
    "\n",
    "\n",
    "\n",
    "\n",
    "\n",
    "\n",
    "\n",
    "\n",
    "\n",
    "\n",
    "\n",
    "\n",
    "\n",
    "\n"
   ]
  }
 ],
 "metadata": {
  "kernelspec": {
   "display_name": "Python 3",
   "language": "python",
   "name": "python3"
  },
  "language_info": {
   "codemirror_mode": {
    "name": "ipython",
    "version": 3
   },
   "file_extension": ".py",
   "mimetype": "text/x-python",
   "name": "python",
   "nbconvert_exporter": "python",
   "pygments_lexer": "ipython3",
   "version": "3.7.6"
  }
 },
 "nbformat": 4,
 "nbformat_minor": 4
}
